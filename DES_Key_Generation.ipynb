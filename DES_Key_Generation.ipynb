{
  "nbformat": 4,
  "nbformat_minor": 0,
  "metadata": {
    "colab": {
      "name": "DES Key Generation.ipynb",
      "provenance": [],
      "authorship_tag": "ABX9TyNGpACMMa5Gs9qpGImgGo2d",
      "include_colab_link": true
    },
    "kernelspec": {
      "name": "python3",
      "display_name": "Python 3"
    }
  },
  "cells": [
    {
      "cell_type": "markdown",
      "metadata": {
        "id": "view-in-github",
        "colab_type": "text"
      },
      "source": [
        "<a href=\"https://colab.research.google.com/github/AmiMunshi/Data-Encryption/blob/master/DES_Key_Generation.ipynb\" target=\"_parent\"><img src=\"https://colab.research.google.com/assets/colab-badge.svg\" alt=\"Open In Colab\"/></a>"
      ]
    },
    {
      "cell_type": "markdown",
      "metadata": {
        "id": "7CqjfyIxivyN"
      },
      "source": [
        "## DES key generation for 16 rounds"
      ]
    },
    {
      "cell_type": "markdown",
      "metadata": {
        "id": "D4DbeSD-El1i"
      },
      "source": [
        ""
      ]
    },
    {
      "cell_type": "code",
      "metadata": {
        "id": "bzc2u-vHjLi8",
        "colab": {
          "base_uri": "https://localhost:8080/"
        },
        "outputId": "c52d478a-b9e8-44f5-92f3-9b6d68a2b4d5"
      },
      "source": [
        "import numpy as np\n",
        "import random\n",
        "#Generate Key of size 64 elements. Here, insead of bits, integers are taken to understand the permutaion and shifting operations taking place.\n",
        "key= np.arange(1,65,1)\n",
        "print(key)"
      ],
      "execution_count": 2,
      "outputs": [
        {
          "output_type": "stream",
          "text": [
            "[ 1  2  3  4  5  6  7  8  9 10 11 12 13 14 15 16 17 18 19 20 21 22 23 24\n",
            " 25 26 27 28 29 30 31 32 33 34 35 36 37 38 39 40 41 42 43 44 45 46 47 48\n",
            " 49 50 51 52 53 54 55 56 57 58 59 60 61 62 63 64]\n"
          ],
          "name": "stdout"
        }
      ]
    },
    {
      "cell_type": "code",
      "metadata": {
        "id": "BwWcrqUzqTbo"
      },
      "source": [
        "# Initialize permutaion choice 1 matrix\n",
        "Perm1= [57,49,41,33, 25,17,9,1,58,50,42,34,26,18,10,2,59,51,43,35,27,19,11,3,60,52,44,36,63,55,47,39,31,23,15,7,62,54,46,38,30,22,14,6,61,53,45,37,29,21,13,25,28,20,12,4]"
      ],
      "execution_count": 4,
      "outputs": []
    },
    {
      "cell_type": "code",
      "metadata": {
        "id": "5b0HlL15lusl",
        "colab": {
          "base_uri": "https://localhost:8080/"
        },
        "outputId": "fdc1c02e-9403-4e67-d7fb-48d11d5fe3e8"
      },
      "source": [
        "# Performs permutation and parity drop operations\n",
        "key1=[]\n",
        "for i in range(0,56):\n",
        "  x= Perm1[i]\n",
        "  x=int(x)\n",
        "  temp= key[x]\n",
        "  key1.append(temp)\n",
        "print(key1)"
      ],
      "execution_count": 10,
      "outputs": [
        {
          "output_type": "stream",
          "text": [
            "[58, 50, 42, 34, 26, 18, 10, 2, 59, 51, 43, 35, 27, 19, 11, 3, 60, 52, 44, 36, 28, 20, 12, 4, 61, 53, 45, 37, 64, 56, 48, 40, 32, 24, 16, 8, 63, 55, 47, 39, 31, 23, 15, 7, 62, 54, 46, 38, 30, 22, 14, 26, 29, 21, 13, 5]\n"
          ],
          "name": "stdout"
        }
      ]
    },
    {
      "cell_type": "code",
      "metadata": {
        "id": "_AQ9gWj3UslJ"
      },
      "source": [
        "leftKey1= key1[0:28]\r\n",
        "rightKey1= key1[28::]"
      ],
      "execution_count": 11,
      "outputs": []
    },
    {
      "cell_type": "code",
      "metadata": {
        "id": "fqMqmvKrVnwr"
      },
      "source": [
        "#Performs left rotation of each round key according to its round number\r\n",
        "keyrot= np.zeros([16,56],dtype=int)\r\n",
        "for i in range(0,16):\r\n",
        "  temp=[]\r\n",
        "  if i== 0 or i==1 or i==8 or i==15:\r\n",
        "    leftKey1= np.roll(leftKey1,-1)\r\n",
        "    rightKey1= np.roll(rightKey1,-1)\r\n",
        "  else:\r\n",
        "    leftKey1= np.roll(leftKey1,-2)\r\n",
        "    rightKey1= np.roll(rightKey1,-2)\r\n",
        "  temp= np.concatenate((leftKey1,rightKey1))\r\n",
        "  keyrot[i,:]= temp\r\n",
        "\r\n"
      ],
      "execution_count": 16,
      "outputs": []
    },
    {
      "cell_type": "code",
      "metadata": {
        "id": "TG36_Sj1qPmx"
      },
      "source": [
        "#Initialize permutaion choice 2 matrix\n",
        "Perm2= [14,17,11,24,1,5,3,28,15,6,21,10,23,19,12,4,26,8,16,7, 27,20,13,2,41,52,31,37,47,55,30,40,51,45,33,48,44,49,39,56,34,53,46,42,50,36,29,32]"
      ],
      "execution_count": 17,
      "outputs": []
    },
    {
      "cell_type": "code",
      "metadata": {
        "id": "bRT-COk5S5DC",
        "colab": {
          "base_uri": "https://localhost:8080/"
        },
        "outputId": "b12f8b1f-60b9-4c07-989f-2f52e91b635c"
      },
      "source": [
        "#Performs permutation and compression\n",
        "keyround=np.zeros([16,48], dtype=int)\n",
        "for i in range(0,16):\n",
        "  tempkey= keyrot[i,:]\n",
        "  key2=[]\n",
        "  for k in range(0,48):\n",
        "    y=Perm2[k]-1\n",
        "    temp=tempkey[y]\n",
        "    key2.append(temp)\n",
        "  keyround[i,:]=key2\n",
        "  print(\"Key for round\",i,\"= \", tempkey)\n"
      ],
      "execution_count": 19,
      "outputs": [
        {
          "output_type": "stream",
          "text": [
            "Key for round 0 =  [50 42 34 26 18 10  2 59 51 43 35 27 19 11  3 60 52 44 36 28 20 12  4 61\n",
            " 53 45 37 58 56 48 40 32 24 16  8 63 55 47 39 31 23 15  7 62 54 46 38 30\n",
            " 22 14 26 29 21 13  5 64]\n",
            "Key for round 1 =  [42 34 26 18 10  2 59 51 43 35 27 19 11  3 60 52 44 36 28 20 12  4 61 53\n",
            " 45 37 58 50 48 40 32 24 16  8 63 55 47 39 31 23 15  7 62 54 46 38 30 22\n",
            " 14 26 29 21 13  5 64 56]\n",
            "Key for round 2 =  [26 18 10  2 59 51 43 35 27 19 11  3 60 52 44 36 28 20 12  4 61 53 45 37\n",
            " 58 50 42 34 32 24 16  8 63 55 47 39 31 23 15  7 62 54 46 38 30 22 14 26\n",
            " 29 21 13  5 64 56 48 40]\n",
            "Key for round 3 =  [10  2 59 51 43 35 27 19 11  3 60 52 44 36 28 20 12  4 61 53 45 37 58 50\n",
            " 42 34 26 18 16  8 63 55 47 39 31 23 15  7 62 54 46 38 30 22 14 26 29 21\n",
            " 13  5 64 56 48 40 32 24]\n",
            "Key for round 4 =  [59 51 43 35 27 19 11  3 60 52 44 36 28 20 12  4 61 53 45 37 58 50 42 34\n",
            " 26 18 10  2 63 55 47 39 31 23 15  7 62 54 46 38 30 22 14 26 29 21 13  5\n",
            " 64 56 48 40 32 24 16  8]\n",
            "Key for round 5 =  [43 35 27 19 11  3 60 52 44 36 28 20 12  4 61 53 45 37 58 50 42 34 26 18\n",
            " 10  2 59 51 47 39 31 23 15  7 62 54 46 38 30 22 14 26 29 21 13  5 64 56\n",
            " 48 40 32 24 16  8 63 55]\n",
            "Key for round 6 =  [27 19 11  3 60 52 44 36 28 20 12  4 61 53 45 37 58 50 42 34 26 18 10  2\n",
            " 59 51 43 35 31 23 15  7 62 54 46 38 30 22 14 26 29 21 13  5 64 56 48 40\n",
            " 32 24 16  8 63 55 47 39]\n",
            "Key for round 7 =  [11  3 60 52 44 36 28 20 12  4 61 53 45 37 58 50 42 34 26 18 10  2 59 51\n",
            " 43 35 27 19 15  7 62 54 46 38 30 22 14 26 29 21 13  5 64 56 48 40 32 24\n",
            " 16  8 63 55 47 39 31 23]\n",
            "Key for round 8 =  [ 3 60 52 44 36 28 20 12  4 61 53 45 37 58 50 42 34 26 18 10  2 59 51 43\n",
            " 35 27 19 11  7 62 54 46 38 30 22 14 26 29 21 13  5 64 56 48 40 32 24 16\n",
            "  8 63 55 47 39 31 23 15]\n",
            "Key for round 9 =  [52 44 36 28 20 12  4 61 53 45 37 58 50 42 34 26 18 10  2 59 51 43 35 27\n",
            " 19 11  3 60 54 46 38 30 22 14 26 29 21 13  5 64 56 48 40 32 24 16  8 63\n",
            " 55 47 39 31 23 15  7 62]\n",
            "Key for round 10 =  [36 28 20 12  4 61 53 45 37 58 50 42 34 26 18 10  2 59 51 43 35 27 19 11\n",
            "  3 60 52 44 38 30 22 14 26 29 21 13  5 64 56 48 40 32 24 16  8 63 55 47\n",
            " 39 31 23 15  7 62 54 46]\n",
            "Key for round 11 =  [20 12  4 61 53 45 37 58 50 42 34 26 18 10  2 59 51 43 35 27 19 11  3 60\n",
            " 52 44 36 28 22 14 26 29 21 13  5 64 56 48 40 32 24 16  8 63 55 47 39 31\n",
            " 23 15  7 62 54 46 38 30]\n",
            "Key for round 12 =  [ 4 61 53 45 37 58 50 42 34 26 18 10  2 59 51 43 35 27 19 11  3 60 52 44\n",
            " 36 28 20 12 26 29 21 13  5 64 56 48 40 32 24 16  8 63 55 47 39 31 23 15\n",
            "  7 62 54 46 38 30 22 14]\n",
            "Key for round 13 =  [53 45 37 58 50 42 34 26 18 10  2 59 51 43 35 27 19 11  3 60 52 44 36 28\n",
            " 20 12  4 61 21 13  5 64 56 48 40 32 24 16  8 63 55 47 39 31 23 15  7 62\n",
            " 54 46 38 30 22 14 26 29]\n",
            "Key for round 14 =  [37 58 50 42 34 26 18 10  2 59 51 43 35 27 19 11  3 60 52 44 36 28 20 12\n",
            "  4 61 53 45  5 64 56 48 40 32 24 16  8 63 55 47 39 31 23 15  7 62 54 46\n",
            " 38 30 22 14 26 29 21 13]\n",
            "Key for round 15 =  [58 50 42 34 26 18 10  2 59 51 43 35 27 19 11  3 60 52 44 36 28 20 12  4\n",
            " 61 53 45 37 64 56 48 40 32 24 16  8 63 55 47 39 31 23 15  7 62 54 46 38\n",
            " 30 22 14 26 29 21 13  5]\n"
          ],
          "name": "stdout"
        }
      ]
    },
    {
      "cell_type": "markdown",
      "metadata": {
        "id": "2OmsXCIREh2A"
      },
      "source": [
        ""
      ]
    },
    {
      "cell_type": "code",
      "metadata": {
        "id": "lh5tutdVm9bs"
      },
      "source": [
        "\n"
      ],
      "execution_count": null,
      "outputs": []
    }
  ]
}