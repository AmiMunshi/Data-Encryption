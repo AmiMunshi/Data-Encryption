{
 "cells": [
  {
   "cell_type": "code",
   "execution_count": 15,
   "metadata": {},
   "outputs": [],
   "source": [
    "## Function to find multiplicative inverse\n",
    "def mul_inv(n,a):\n",
    "    \n",
    "    for i in range(1,n+1):\n",
    "        if (a*i)%n==1:\n",
    "            \n",
    "            return(i)\n",
    "        "
   ]
  },
  {
   "cell_type": "code",
   "execution_count": 12,
   "metadata": {},
   "outputs": [
    {
     "name": "stdout",
     "output_type": "stream",
     "text": [
      "Enter the value for n: 26\n",
      "Enter the value for a: 7\n",
      "Multiplicative inverse of a is  15\n"
     ]
    }
   ],
   "source": [
    "n= input(\"Enter the value for n: \")\n",
    "a= input(\"Enter the value for a: \")\n",
    "n=int(n)\n",
    "a=int(a)\n",
    "b= mul_inv(n,a)\n",
    "print(\"Multiplicative inverse of a is \",b)"
   ]
  },
  {
   "cell_type": "code",
   "execution_count": 16,
   "metadata": {},
   "outputs": [
    {
     "name": "stdout",
     "output_type": "stream",
     "text": [
      "enter the key 1: 7\n",
      "enter the key 2: 2\n",
      "Enter the string to be encrypted: dataencryption\n",
      "Cipher text is xcfcepqrodfgwp\n"
     ]
    }
   ],
   "source": [
    "## Affine cipher\n",
    "## C= (P*K1 + K2)modn\n",
    "## P= ((C-K2)*K1^-1)modn\n",
    "## Here -K2 is additive inverse of K2 and K1^-1 is multiplicative inverse of K1\n",
    "\n",
    "import string\n",
    "all_letters= string.ascii_lowercase\n",
    "n=len(all_letters)\n",
    "dict1={}\n",
    "k1=input(\"enter the key 1: \")\n",
    "k1=int(k1)\n",
    "k2=input(\"enter the key 2: \")\n",
    "k2=int(k2)\n",
    "\n",
    "for i in range(len(all_letters)):\n",
    "    dict1[all_letters[i]]= all_letters[ (i*k1+k2)%n]\n",
    "#print(dict1)\n",
    "\n",
    "plain_txt= input(\"Enter the string to be encrypted: \")\n",
    "cipher_txt=[]\n",
    "\n",
    "## loop to generate cipher text\n",
    "\n",
    "for char in plain_txt:\n",
    "    if char in all_letters:\n",
    "        temp= dict1[char]\n",
    "        cipher_txt.append(temp)\n",
    "    else:\n",
    "        temp=char\n",
    "        cipher_txt.append(temp)\n",
    "cipher_txt= \"\".join(cipher_txt)\n",
    "print(\"Cipher text is\",cipher_txt)\n",
    "\n"
   ]
  },
  {
   "cell_type": "code",
   "execution_count": 18,
   "metadata": {},
   "outputs": [
    {
     "name": "stdout",
     "output_type": "stream",
     "text": [
      "Recovered plain text is:  dataencryption\n"
     ]
    }
   ],
   "source": [
    "\"\"\"\n",
    "create a dictionary to store the substitution for the given alphabet \n",
    "in the cihpher text based on the key\n",
    "\"\"\"\n",
    "\n",
    "k1inv= mul_inv(n,a)\n",
    "dict2={}        \n",
    "for i in range(n):\n",
    "    dict2[all_letters[i]]= all_letters[((i-k2)*k1inv)%n]\n",
    "    \n",
    " ## loop to recover plain text\n",
    "decrypt_txt=[]\n",
    "for char in cipher_txt:\n",
    "    if char in all_letters:\n",
    "        temp= dict2[char]\n",
    "        decrypt_txt.append(temp)\n",
    "    else:\n",
    "        temp=char\n",
    "        decrypt_txt.append(temp)\n",
    "decrypt_txt= \"\".join(decrypt_txt)\n",
    "print(\"Recovered plain text is: \",decrypt_txt)  "
   ]
  },
  {
   "cell_type": "code",
   "execution_count": null,
   "metadata": {},
   "outputs": [],
   "source": []
  }
 ],
 "metadata": {
  "kernelspec": {
   "display_name": "Python 3",
   "language": "python",
   "name": "python3"
  },
  "language_info": {
   "codemirror_mode": {
    "name": "ipython",
    "version": 3
   },
   "file_extension": ".py",
   "mimetype": "text/x-python",
   "name": "python",
   "nbconvert_exporter": "python",
   "pygments_lexer": "ipython3",
   "version": "3.6.4"
  }
 },
 "nbformat": 4,
 "nbformat_minor": 2
}
